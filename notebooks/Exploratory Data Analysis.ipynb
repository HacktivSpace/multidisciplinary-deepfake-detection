{
 "cells": [
  {
   "cell_type": "markdown",
   "metadata": {},
   "source": [
    "# Exploratory Data Analysis\n",
    "\n",
    "This notebook performs exploratory data analysis (EDA) on the dataset for the Multidisciplinary Deepfake Detection product. It includes steps for visualizing data distributions, examining correlations, and identifying potential outliers."
   ]
  },
  {
   "cell_type": "code",
   "execution_count": null,
   "metadata": {},
   "outputs": [],
   "source": [
    "# To import necessary libraries\n",
    "import pandas as pd\n",
    "import numpy as np\n",
    "import matplotlib.pyplot as plt\n",
    "import seaborn as sns\n",
    "import os\n",
    "import logging\n",
    "\n",
    "# To set up logging\n",
    "logging.basicConfig(filename='../logs/exploratory_data_analysis.log', level=logging.INFO,\n",
    "                    format='%(asctime)s %(levelname)s: %(message)s', datefmt='%Y-%m-%d %H:%M:%S')\n",
    "\n",
    "# To load configuration\n",
    "from src.config import Config\n",
    "\n",
    "# To define paths\n",
    "processed_data_path = os.path.join(Config.PROCESSED_DATA_DIR, 'processed_data.csv')\n",
    "\n",
    "logging.info(\"EDA started.\")\n",
    "\n",
    "# To load processed data\n",
    "logging.info(\"Loading processed data from {}.\".format(processed_data_path))\n",
    "data = pd.read_csv(processed_data_path)\n",
    "logging.info(\"Processed data loaded successfully with shape {}.\".format(data.shape))\n",
    "\n",
    "# To display information about the dataset\n",
    "data.info()\n",
    "\n",
    "# Display statistics about the dataset\n",
    "data.describe()"
   ]
  },
  {
   "cell_type": "markdown",
   "metadata": {},
   "source": [
    "## Data Distribution\n",
    "\n",
    "To visualize the distribution of numerical features and the distribution of labels."
   ]
  },
  {
   "cell_type": "code",
   "execution_count": null,
   "metadata": {},
   "outputs": [],
   "source": [
    "# To visualize the distribution of numerical features\n",
    "logging.info(\"Visualizing the distribution of numerical features.\")\n",
    "numerical_features = data.select_dtypes(include=[np.number]).columns\n",
    "data[numerical_features].hist(figsize=(15, 10), bins=30)\n",
    "plt.suptitle('Distribution of Numerical Features')\n",
    "plt.savefig('../logs/distribution_numerical_features.png')\n",
    "plt.show()\n",
    "logging.info(\"Distribution of numerical features visualized.\")\n",
    "\n",
    "# To visualize the distribution of the target label\n",
    "logging.info(\"Visualizing the distribution of the target label.\")\n",
    "sns.countplot(x='label', data=data)\n",
    "plt.title('Distribution of Target Label')\n",
    "plt.savefig('../logs/distribution_target_label.png')\n",
    "plt.show()\n",
    "logging.info(\"Distribution of target label visualized.\")"
   ]
  },
  {
   "cell_type": "markdown",
   "metadata": {},
   "source": [
    "## Correlation Analysis\n",
    "\n",
    "To examine the correlation between numerical features and the target label."
   ]
  },
  {
   "cell_type": "code",
   "execution_count": null,
   "metadata": {},
   "outputs": [],
   "source": [
    "# Correlation matrix\n",
    "logging.info(\"Computing correlation matrix.\")\n",
    "correlation_matrix = data.corr()\n",
    "\n",
    "# To plot the correlation matrix\n",
    "logging.info(\"Plotting correlation matrix.\")\n",
    "plt.figure(figsize=(15, 10))\n",
    "sns.heatmap(correlation_matrix, annot=True, cmap='coolwarm', fmt='.2f')\n",
    "plt.title('Correlation Matrix')\n",
    "plt.savefig('../logs/correlation_matrix.png')\n",
    "plt.show()\n",
    "logging.info(\"Correlation matrix plotted.\")"
   ]
  },
  {
   "cell_type": "markdown",
   "metadata": {},
   "source": [
    "## Pairplot Analysis\n",
    "\n",
    "To generate pair plots for a subset of features to identify relationships and potential outliers."
   ]
  },
  {
   "cell_type": "code",
   "execution_count": null,
   "metadata": {},
   "outputs": [],
   "source": [
    "# Pairplot analysis\n",
    "logging.info(\"Generating pairplot for numerical features.\")\n",
    "sns.pairplot(data[numerical_features], diag_kind='kde')\n",
    "plt.suptitle('Pairplot Analysis')\n",
    "plt.savefig('../logs/pairplot_analysis.png')\n",
    "plt.show()\n",
    "logging.info(\"Pairplot analysis completed.\")"
   ]
  },
  {
   "cell_type": "markdown",
   "metadata": {},
   "source": [
    "## Summary\n",
    "\n",
    "The exploratory data analysis provided insights into the data distribution, correlation between features, and identified potential relationships and outliers. This information is vital for guiding further data preprocessing and model training steps."
   ]
  },
  {
   "cell_type": "code",
   "execution_count": null,
   "metadata": {},
   "outputs": [],
   "source": [
    "logging.info(\"EDA completed.\")"
   ]
  }
 ],
 "metadata": {
  "kernelspec": {
   "display_name": "Python 3",
   "language": "python",
   "name": "python3"
  },
  "language_info": {
   "codemirror_mode": {
    "name": "ipython",
    "version": 3
   },
   "file_extension": ".py",
   "mimetype": "text/x-python",
   "name": "python",
   "nbconvert_exporter": "python",
   "pygments_lexer": "ipython3",
   "version": "3.9.6"
  }
 },
 "nbformat": 4,
 "nbformat_minor": 4
}
